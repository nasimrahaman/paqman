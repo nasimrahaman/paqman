{
 "cells": [
  {
   "cell_type": "markdown",
   "metadata": {},
   "source": [
    "# Visualizing MsPacman + OpenAI Gym"
   ]
  },
  {
   "cell_type": "code",
   "execution_count": 1,
   "metadata": {
    "collapsed": true
   },
   "outputs": [],
   "source": [
    "import numpy as np\n",
    "import matplotlib.pyplot as plt\n",
    "%matplotlib inline"
   ]
  },
  {
   "cell_type": "markdown",
   "metadata": {},
   "source": [
    "## Building the Environment"
   ]
  },
  {
   "cell_type": "code",
   "execution_count": 2,
   "metadata": {
    "collapsed": false
   },
   "outputs": [
    {
     "name": "stderr",
     "output_type": "stream",
     "text": [
      "INFO:gym.envs.registration:Making new env: MsPacman-v0\n",
      "[2016-09-27 08:35:02,534] Making new env: MsPacman-v0\n"
     ]
    }
   ],
   "source": [
    "import gym\n",
    "env = gym.make('MsPacman-v0')"
   ]
  },
  {
   "cell_type": "markdown",
   "metadata": {},
   "source": [
    "## Sampling from Environment"
   ]
  },
  {
   "cell_type": "code",
   "execution_count": 8,
   "metadata": {
    "collapsed": false
   },
   "outputs": [],
   "source": [
    "observation, reward, done, info = env.step(env.action_space.sample())"
   ]
  },
  {
   "cell_type": "code",
   "execution_count": 17,
   "metadata": {
    "collapsed": false,
    "scrolled": true
   },
   "outputs": [
    {
     "name": "stdout",
     "output_type": "stream",
     "text": [
      "observation.shape = (210, 160, 3)\n",
      "reward = 0.0\n",
      "done = False\n",
      "info = {}\n",
      "action_space = Discrete(9)\n",
      "------- PLOT -------\n"
     ]
    },
    {
     "data": {
      "image/png": "[encoded data removed]",
      "text/plain": [
       "<matplotlib.figure.Figure at 0x1131f5750>"
      ]
     },
     "metadata": {},
     "output_type": "display_data"
    }
   ],
   "source": [
    "print \"observation.shape = {}\".format(observation.shape)\n",
    "print \"reward = {}\".format(reward)\n",
    "print \"done = {}\".format(done)\n",
    "print \"info = {}\".format(info)\n",
    "print \"action_space = {}\".format(env.action_space)\n",
    "print \"------- PLOT -------\"\n",
    "plt.imshow(observation)\n",
    "plt.show()"
   ]
  },
  {
   "cell_type": "markdown",
   "metadata": {},
   "source": [
    "## Key Observations\n",
    "\n",
    "* Environment image is relatively small - GPU space not a problem, should be trainable on a laptop with a decent GPU (2GB mem). \n",
    "* Using a large filter at the first layer (like in the original Atari paper) might wash away some of the details (like Pacman's food). But using a small filter might require us to make the network too large to have a big enough field of view. **Solution: Inception modules**. \n",
    "* Action space is discrete with 9 actions, i.e. 9 output channels from the Q-network. "
   ]
  }
 ],
 "metadata": {
  "kernelspec": {
   "display_name": "Python 2",
   "language": "python",
   "name": "python2"
  },
  "language_info": {
   "codemirror_mode": {
    "name": "ipython",
    "version": 2
   },
   "file_extension": ".py",
   "mimetype": "text/x-python",
   "name": "python",
   "nbconvert_exporter": "python",
   "pygments_lexer": "ipython2",
   "version": "2.7.6"
  }
 },
 "nbformat": 4,
 "nbformat_minor": 0
}
